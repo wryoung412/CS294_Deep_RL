{
 "cells": [
  {
   "cell_type": "markdown",
   "metadata": {
    "nbgrader": {
     "grade": false,
     "grade_id": "intro_1",
     "locked": false,
     "solution": false
    }
   },
   "source": [
    "# Assignment 2: Markov Decision Processes\n",
    "\n",
    "\n",
    "## Homework Instructions\n",
    "All your answers should be written in this notebook.  You shouldn't need to write or modify any other files.\n",
    "Look for four instances of \"YOUR CODE HERE\"--those are the only parts of the code you need to write. To grade your homework, we will check whether the printouts immediately following your code match up with the results we got. The portions used for grading are highlighted in yellow. (However, note that the yellow highlighting does not show up when github renders this file.)\n",
    "\n",
    "To submit your homework, send an email to <berkeleydeeprlcourse@gmail.com> with the subject line \"Deep RL Assignment 2\" and two attachments:\n",
    "1. This `ipynb` file\n",
    "2. A pdf version of this file (To make the pdf, do `File - Print Preview`)\n",
    "\n",
    "The homework is due Febrary 22nd, 11:59 pm.\n",
    "\n",
    "--------------------------"
   ]
  },
  {
   "cell_type": "markdown",
   "metadata": {
    "nbgrader": {
     "grade": false,
     "grade_id": "intro_2",
     "locked": false,
     "solution": false
    }
   },
   "source": [
    "## Introduction\n",
    "\n",
    "This assignment will review the two classic methods for solving Markov Decision Processes (MDPs) with finite state and action spaces.\n",
    "We will implement value iteration (VI) and policy iteration (PI) for a finite MDP, both of which find the optimal policy in a finite number of iterations.\n",
    "\n",
    "The experiments here will use the Frozen Lake environment, a simple gridworld MDP that is taken from `gym` and slightly modified for this assignment. In this MDP, the agent must navigate from the start state to the goal state on a 4x4 grid, with stochastic transitions."
   ]
  },
  {
   "cell_type": "code",
   "execution_count": 32,
   "metadata": {},
   "outputs": [
    {
     "name": "stdout",
     "output_type": "stream",
     "text": [
      "\n",
      "    Winter is here. You and your friends were tossing around a frisbee at the park\n",
      "    when you made a wild throw that left the frisbee out in the middle of the lake.\n",
      "    The water is mostly frozen, but there are a few holes where the ice has melted.\n",
      "    If you step into one of those holes, you'll fall into the freezing water.\n",
      "    At this time, there's an international frisbee shortage, so it's absolutely imperative that\n",
      "    you navigate across the lake and retrieve the disc.\n",
      "    However, the ice is slippery, so you won't always move in the direction you intend.\n",
      "    The surface is described using a grid like the following\n",
      "\n",
      "        SFFF\n",
      "        FHFH\n",
      "        FFFH\n",
      "        HFFG\n",
      "\n",
      "    S : starting point, safe\n",
      "    F : frozen surface, safe\n",
      "    H : hole, fall to your doom\n",
      "    G : goal, where the frisbee is located\n",
      "\n",
      "    The episode ends when you reach the goal or fall in a hole.\n",
      "    You receive a reward of 1 if you reach the goal, and zero otherwise.\n",
      "\n",
      "    \n"
     ]
    }
   ],
   "source": [
    "from frozen_lake import FrozenLakeEnv\n",
    "env = FrozenLakeEnv()\n",
    "print(env.__doc__)"
   ]
  },
  {
   "cell_type": "markdown",
   "metadata": {},
   "source": [
    "Let's look at what a random episode looks like."
   ]
  },
  {
   "cell_type": "code",
   "execution_count": 33,
   "metadata": {
    "scrolled": true
   },
   "outputs": [
    {
     "name": "stdout",
     "output_type": "stream",
     "text": [
      "\n",
      "\u001b[41mS\u001b[0mFFF\n",
      "FHFH\n",
      "FFFH\n",
      "HFFG\n",
      "  (Down)\n",
      "S\u001b[41mF\u001b[0mFF\n",
      "FHFH\n",
      "FFFH\n",
      "HFFG\n",
      "  (Down)\n",
      "SFFF\n",
      "F\u001b[41mH\u001b[0mFH\n",
      "FFFH\n",
      "HFFG\n"
     ]
    }
   ],
   "source": [
    "# Some basic imports and setup\n",
    "import numpy as np, numpy.random as nr, gym\n",
    "np.set_printoptions(precision=3)\n",
    "def begin_grading(): print(\"\\x1b[43m\")\n",
    "def end_grading(): print(\"\\x1b[0m\")\n",
    "\n",
    "# Seed RNGs so you get the same printouts as me\n",
    "env.seed(0); from gym.spaces import prng; prng.seed(10)\n",
    "# Generate the episode\n",
    "env.reset()\n",
    "for t in range(100):\n",
    "    env.render()\n",
    "    a = env.action_space.sample()\n",
    "    ob, rew, done, _ = env.step(a)\n",
    "    if done:\n",
    "        break\n",
    "assert done\n",
    "env.render();"
   ]
  },
  {
   "cell_type": "markdown",
   "metadata": {},
   "source": [
    "In the episode above, the agent falls into a hole after two timesteps. Also note the stochasticity--on the first step, the DOWN action is selected, but the agent moves to the right.\n",
    "\n",
    "We extract the relevant information from the gym Env into the MDP class below.\n",
    "The `env` object won't be used any further, we'll just use the `mdp` object."
   ]
  },
  {
   "cell_type": "code",
   "execution_count": 34,
   "metadata": {
    "scrolled": false
   },
   "outputs": [
    {
     "name": "stdout",
     "output_type": "stream",
     "text": [
      "mdp.P is a two-level dict where the first key is the state and the second key is the action.\n",
      "The 2D grid cells are associated with indices [0, 1, 2, ..., 15] from left to right and top to down, as in\n",
      "[[ 0  1  2  3]\n",
      " [ 4  5  6  7]\n",
      " [ 8  9 10 11]\n",
      " [12 13 14 15]]\n",
      "mdp.P[state][action] is a list of tuples (probability, nextstate, reward).\n",
      "\n",
      "For example, state 0 is the initial state, and the transition information for s=0, a=0 is \n",
      "P[0][0] = [(0.1, 0, 0.0), (0.8, 0, 0.0), (0.1, 4, 0.0)] \n",
      "\n",
      "As another example, state 5 corresponds to a hole in the ice, which transitions to itself with probability 1 and reward 0.\n",
      "P[5][0] = [(1.0, 5, 0)] \n",
      "\n"
     ]
    }
   ],
   "source": [
    "class MDP(object):\n",
    "    def __init__(self, P, nS, nA, desc=None):\n",
    "        self.P = P # state transition and reward probabilities, explained below\n",
    "        self.nS = nS # number of states\n",
    "        self.nA = nA # number of actions\n",
    "        self.desc = desc # 2D array specifying what each grid cell means (used for plotting)\n",
    "mdp = MDP( {s : {a : [tup[:3] for tup in tups] for (a, tups) in a2d.items()} for (s, a2d) in env.P.items()}, env.nS, env.nA, env.desc)\n",
    "\n",
    "\n",
    "print(\"mdp.P is a two-level dict where the first key is the state and the second key is the action.\")\n",
    "print(\"The 2D grid cells are associated with indices [0, 1, 2, ..., 15] from left to right and top to down, as in\")\n",
    "print(np.arange(16).reshape(4,4))\n",
    "print(\"mdp.P[state][action] is a list of tuples (probability, nextstate, reward).\\n\")\n",
    "print(\"For example, state 0 is the initial state, and the transition information for s=0, a=0 is \\nP[0][0] =\", mdp.P[0][0], \"\\n\")\n",
    "print(\"As another example, state 5 corresponds to a hole in the ice, which transitions to itself with probability 1 and reward 0.\")\n",
    "print(\"P[5][0] =\", mdp.P[5][0], '\\n')"
   ]
  },
  {
   "cell_type": "markdown",
   "metadata": {
    "nbgrader": {
     "grade": false,
     "grade_id": "4",
     "locked": false,
     "solution": false
    }
   },
   "source": [
    "## Part 1: Value Iteration"
   ]
  },
  {
   "cell_type": "markdown",
   "metadata": {
    "nbgrader": {
     "grade": false,
     "locked": false,
     "solution": false
    }
   },
   "source": [
    "### Problem 1: implement value iteration\n",
    "In this problem, you'll implement value iteration, which has the following pseudocode:\n",
    "\n",
    "---\n",
    "Initialize $V^{(0)}(s)=0$, for all $s$\n",
    "\n",
    "For $i=0, 1, 2, \\dots$\n",
    "- $V^{(i+1)}(s) = \\max_a \\sum_{s'} P(s,a,s') [ R(s,a,s') + \\gamma V^{(i)}(s')]$, for all $s$\n",
    "\n",
    "---\n",
    "\n",
    "We additionally define the sequence of greedy policies $\\pi^{(0)}, \\pi^{(1)}, \\dots, \\pi^{(n-1)}$, where\n",
    "$$\\pi^{(i)}(s) = \\arg \\max_a \\sum_{s'} P(s,a,s') [ R(s,a,s') + \\gamma V^{(i)}(s')]$$\n",
    "\n",
    "Your code will return two lists: $[V^{(0)}, V^{(1)}, \\dots, V^{(n)}]$ and $[\\pi^{(0)}, \\pi^{(1)}, \\dots, \\pi^{(n-1)}]$\n",
    "\n",
    "To ensure that you get the same policies as the reference solution, choose the lower-index action to break ties in $\\arg \\max_a$. This is done automatically by np.argmax. This will only affect the \"# chg actions\" printout below--it won't affect the values computed.\n",
    "\n",
    "<div class=\"alert alert-warning\">\n",
    "Warning: make a copy of your value function each iteration and use that copy for the update--don't update your value function in place. \n",
    "Updating in-place is also a valid algorithm, sometimes called Gauss-Seidel value iteration or asynchronous value iteration, but it will cause you to get different results than me.\n",
    "</div>"
   ]
  },
  {
   "cell_type": "code",
   "execution_count": 35,
   "metadata": {
    "scrolled": false
   },
   "outputs": [
    {
     "name": "stdout",
     "output_type": "stream",
     "text": [
      "[[  7.943e-02   8.164e-02   4.772e-02   6.928e-02]\n",
      " [  5.736e-02   6.865e-03   2.721e-02   3.834e-02]\n",
      " [  3.710e-02   2.923e-02   4.879e-05   6.089e-03]\n",
      " [  0.000e+00   3.241e-04   1.620e-05   1.800e-05]\n",
      " [  8.634e-02   1.273e-01   2.873e-02   5.484e-02]\n",
      " [  0.000e+00   0.000e+00   0.000e+00   0.000e+00]\n",
      " [  0.000e+00   1.019e-01   8.185e-04   4.855e-03]\n",
      " [  0.000e+00   0.000e+00   0.000e+00   0.000e+00]\n",
      " [  1.616e-01   8.432e-02   1.651e-01   1.232e-01]\n",
      " [  1.324e-01   3.132e-01   2.324e-01   5.940e-02]\n",
      " [  2.242e-01   3.091e-01   7.831e-02   2.953e-02]\n",
      " [  0.000e+00   0.000e+00   0.000e+00   0.000e+00]\n",
      " [  0.000e+00   0.000e+00   0.000e+00   0.000e+00]\n",
      " [  1.161e-01   3.619e-01   5.589e-01   2.042e-01]\n",
      " [  3.455e-01   5.415e-01   8.987e-01   2.044e-01]\n",
      " [  0.000e+00   0.000e+00   0.000e+00   0.000e+00]]\n"
     ]
    },
    {
     "data": {
      "image/png": "[encoded data removed]",
      "text/plain": [
       "<matplotlib.figure.Figure at 0x7fadd17728d0>"
      ]
     },
     "metadata": {},
     "output_type": "display_data"
    }
   ],
   "source": [
    "import random\n",
    "import datetime\n",
    "\n",
    "def sarsa_lambda(env, gamma, delta, rate, epsilon, nIt, render):\n",
    "    random.seed(datetime.datetime.now().timestamp())\n",
    "    \n",
    "    q = np.array([0] * env.nS * env.nA, dtype = float).reshape(env.nS, env.nA)\n",
    "    for i in range(nIt):\n",
    "        trace = np.zeros_like(q)\n",
    "        \n",
    "        obs_prev = None\n",
    "        act_prev = None\n",
    "        \n",
    "        obs = None\n",
    "        done = False\n",
    "        totalr = 0.\n",
    "        # need to manipulate the structure a little bit as Sarsa(delta) needs an extra action sampling\n",
    "        while not done:\n",
    "            if render:\n",
    "                env.render()\n",
    "                \n",
    "            if obs is None: \n",
    "                obs = env.reset()\n",
    "            else:\n",
    "                assert act is not None\n",
    "                obs, r, done, _ = env.step(act)\n",
    "                totalr += r\n",
    "            \n",
    "            p = np.random.uniform(0., 1.)\n",
    "            if p > epsilon:\n",
    "                act = np.argmax(q[obs])\n",
    "            else:\n",
    "                act = np.random.randint(4)\n",
    "            # Sarsa(delta)\n",
    "            # R and S are ready. Waiting for A. \n",
    "            if obs_prev is not None:\n",
    "                trace *= delta * gamma\n",
    "                trace[obs_prev][act_prev] += 1\n",
    "                q += rate * trace * (r + gamma * q[obs][act] - q[obs_prev][act_prev])\n",
    "            obs_prev = obs\n",
    "            act_prev = act\n",
    "            \n",
    "        if render:\n",
    "            env.render()\n",
    "    \n",
    "    return q\n",
    "\n",
    "gamma = 0.9  # decay of reward\n",
    "delta = 0.5  # decay of eligibility trace\n",
    "rate = 0.1  # the learning rate, or alpha in the book\n",
    "nIt = 1000\n",
    "epsilon = 0.5  # epsilon greedy\n",
    "q = sarsa_lambda(env, gamma, delta, rate, epsilon, nIt, False)\n",
    "print(q)\n",
    "\n",
    "import matplotlib.pyplot as plt\n",
    "%matplotlib inline\n",
    "\n",
    "def policy_matrix(q):\n",
    "    indices = np.argmax(q, axis = 1)\n",
    "    indices[np.max(q, axis = 1) == 0] = 4\n",
    "    to_direction = np.vectorize(lambda x: ['L', 'D', 'R', 'U', ''][x])\n",
    "    return to_direction(indices.reshape(4, 4))\n",
    "\n",
    "plt.figure(figsize=(3,3))\n",
    "# imshow makes top left the origin\n",
    "plt.imshow(np.array([0] * 16).reshape(4,4), cmap='gray', interpolation='none', clim=(0,1))\n",
    "ax = plt.gca()\n",
    "ax.set_xticks(np.arange(4)-.5)\n",
    "ax.set_yticks(np.arange(4)-.5)\n",
    "directions = policy_matrix(q)\n",
    "for y in range(4):\n",
    "    for x in range(4):\n",
    "        plt.text(x, y, str(env.desc[y,x].item().decode()) + ',' + directions[y, x],\n",
    "                    color='g', size=12,  verticalalignment='center',\n",
    "                 horizontalalignment='center', fontweight='bold')\n",
    "plt.grid(color='b', lw=2, ls='-')\n",
    "    "
   ]
  },
  {
   "cell_type": "code",
   "execution_count": null,
   "metadata": {},
   "outputs": [],
   "source": []
  }
 ],
 "metadata": {
  "anaconda-cloud": {},
  "celltoolbar": "Create Assignment",
  "kernelspec": {
   "display_name": "Python 3",
   "language": "python",
   "name": "python3"
  },
  "language_info": {
   "codemirror_mode": {
    "name": "ipython",
    "version": 3
   },
   "file_extension": ".py",
   "mimetype": "text/x-python",
   "name": "python",
   "nbconvert_exporter": "python",
   "pygments_lexer": "ipython3",
   "version": "3.5.2"
  }
 },
 "nbformat": 4,
 "nbformat_minor": 1
}
